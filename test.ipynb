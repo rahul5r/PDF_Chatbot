{
 "cells": [
  {
   "cell_type": "code",
   "execution_count": 66,
   "id": "f859fee3",
   "metadata": {},
   "outputs": [
    {
     "name": "stdout",
     "output_type": "stream",
     "text": [
      "8\n"
     ]
    }
   ],
   "source": [
    "def print_subarray(arr, length):\n",
    "    maxSum = arr[0]\n",
    "\n",
    "    for i in range(length):\n",
    "        for j in range(i, length):\n",
    "            curSum = sum(arr[i:j+1])\n",
    "            maxSum = max(curSum, maxSum)\n",
    "    \n",
    "    print(maxSum)\n",
    "    \n",
    "def main():\n",
    "\n",
    "    arr= [5,2,-4,-5, 3,-1,2,3,1]\n",
    "    n = len(arr)\n",
    "    print_subarray(arr, n)\n",
    "    \n",
    "main()"
   ]
  },
  {
   "cell_type": "code",
   "execution_count": 67,
   "id": "8a89235a",
   "metadata": {},
   "outputs": [],
   "source": [
    "l = [3, 4, 5, 6]"
   ]
  },
  {
   "cell_type": "code",
   "execution_count": 71,
   "id": "2470b584",
   "metadata": {},
   "outputs": [
    {
     "data": {
      "text/plain": [
       "<map at 0x2de56e3ae60>"
      ]
     },
     "execution_count": 71,
     "metadata": {},
     "output_type": "execute_result"
    }
   ],
   "source": [
    "l = map(str, l)\n",
    "l"
   ]
  },
  {
   "cell_type": "code",
   "execution_count": 72,
   "id": "da8c1178",
   "metadata": {},
   "outputs": [
    {
     "data": {
      "text/plain": [
       "'3456'"
      ]
     },
     "execution_count": 72,
     "metadata": {},
     "output_type": "execute_result"
    }
   ],
   "source": [
    "\"\".join(l)"
   ]
  },
  {
   "cell_type": "code",
   "execution_count": 82,
   "id": "6a6bcf36",
   "metadata": {},
   "outputs": [
    {
     "name": "stdout",
     "output_type": "stream",
     "text": [
      "3\n",
      "[1, 2] 3\n"
     ]
    },
    {
     "data": {
      "text/plain": [
       "3"
      ]
     },
     "execution_count": 82,
     "metadata": {},
     "output_type": "execute_result"
    }
   ],
   "source": [
    "def runningSum(arr):\n",
    "        print(sum(arr))\n",
    "        print(list(range(1,len(arr)+1)), sum(range(1,len(arr)+1)))\n",
    "        return sum(range(1,len(arr)+2)) - sum(arr)\n",
    "nums =  [2,1]\n",
    "runningSum(nums)"
   ]
  },
  {
   "cell_type": "code",
   "execution_count": 2,
   "id": "9ca70098",
   "metadata": {},
   "outputs": [],
   "source": [
    "arr = [1,2,3]"
   ]
  },
  {
   "cell_type": "code",
   "execution_count": 6,
   "id": "3c13cac1",
   "metadata": {},
   "outputs": [
    {
     "data": {
      "text/plain": [
       "[1]"
      ]
     },
     "execution_count": 6,
     "metadata": {},
     "output_type": "execute_result"
    }
   ],
   "source": [
    "[arr[0]]"
   ]
  },
  {
   "cell_type": "code",
   "execution_count": null,
   "id": "00161dbb",
   "metadata": {},
   "outputs": [
    {
     "name": "stdout",
     "output_type": "stream",
     "text": [
      "6\n",
      "12\n",
      "19\n"
     ]
    }
   ],
   "source": [
    "arr = [[1,2,3],[3,4,5],[7,6,6]]\n",
    "\n",
    "m = arr[0][0]\n",
    "\n",
    "for i in arr:\n",
    "    print(sum(i))"
   ]
  },
  {
   "cell_type": "code",
   "execution_count": 42,
   "id": "e9361ad4",
   "metadata": {},
   "outputs": [
    {
     "data": {
      "text/plain": [
       "[[0, 0, 0], [0, 0, 0], [0, 0, 0]]"
      ]
     },
     "execution_count": 42,
     "metadata": {},
     "output_type": "execute_result"
    }
   ],
   "source": [
    "\n",
    "[[0]*3 for _ in range(3)]"
   ]
  },
  {
   "cell_type": "code",
   "execution_count": 88,
   "id": "8f8c1638",
   "metadata": {},
   "outputs": [
    {
     "data": {
      "text/plain": [
       "'1100'"
      ]
     },
     "execution_count": 88,
     "metadata": {},
     "output_type": "execute_result"
    }
   ],
   "source": [
    "def decimal_binary(num):\n",
    "            s = \"\"\n",
    "            while num>0:\n",
    "                s += str(num%2)\n",
    "                num //= 2\n",
    "\n",
    "            return s[::-1]\n",
    "        \n",
    "decimal_binary(12)"
   ]
  },
  {
   "cell_type": "code",
   "execution_count": 107,
   "id": "3ec648cb",
   "metadata": {},
   "outputs": [
    {
     "data": {
      "text/plain": [
       "0"
      ]
     },
     "execution_count": 107,
     "metadata": {},
     "output_type": "execute_result"
    }
   ],
   "source": [
    "def binary_decimal(num):\n",
    "            res = 0\n",
    "            num = num[::-1]\n",
    "            for i in range(len(num)):\n",
    "                res += int(num[i]) * (2 ** i)\n",
    "            return res\n",
    "        \n",
    "binary_decimal('0')"
   ]
  },
  {
   "cell_type": "code",
   "execution_count": 108,
   "id": "9c4d32b8",
   "metadata": {},
   "outputs": [
    {
     "data": {
      "text/plain": [
       "12"
      ]
     },
     "execution_count": 108,
     "metadata": {},
     "output_type": "execute_result"
    }
   ],
   "source": [
    "a = decimal_binary(12)\n",
    "a = binary_decimal(a)\n",
    "a"
   ]
  },
  {
   "cell_type": "code",
   "execution_count": 9,
   "id": "28e01a58",
   "metadata": {},
   "outputs": [
    {
     "data": {
      "text/plain": [
       "-2"
      ]
     },
     "execution_count": 9,
     "metadata": {},
     "output_type": "execute_result"
    }
   ],
   "source": [
    "def divide(dividend, divisor):\n",
    "        negative = (dividend < 0) != (divisor < 0)\n",
    "        \n",
    "        dividend = abs(dividend)\n",
    "        divisor = abs(divisor)\n",
    "        \n",
    "        quotient = 0\n",
    "        while dividend > divisor:\n",
    "            dividend -= divisor\n",
    "            quotient += 1\n",
    "        return -quotient if negative else quotient \n",
    "\n",
    "dividend = 7\n",
    "divisor = -3\n",
    "divide(dividend, divisor)"
   ]
  },
  {
   "cell_type": "code",
   "execution_count": 128,
   "id": "df438b06",
   "metadata": {},
   "outputs": [
    {
     "data": {
      "text/plain": [
       "2"
      ]
     },
     "execution_count": 128,
     "metadata": {},
     "output_type": "execute_result"
    }
   ],
   "source": [
    "a = decimal_binary(12)\n",
    "len({1:1, 2:2})"
   ]
  },
  {
   "cell_type": "code",
   "execution_count": 102,
   "id": "8fd06ced",
   "metadata": {},
   "outputs": [
    {
     "data": {
      "text/plain": [
       "'00'"
      ]
     },
     "execution_count": 102,
     "metadata": {},
     "output_type": "execute_result"
    }
   ],
   "source": [
    "a[-k:]"
   ]
  },
  {
   "cell_type": "code",
   "execution_count": 87,
   "id": "b96ccf6d",
   "metadata": {},
   "outputs": [
    {
     "data": {
      "text/plain": [
       "7"
      ]
     },
     "execution_count": 87,
     "metadata": {},
     "output_type": "execute_result"
    }
   ],
   "source": [
    "binary_decimal((a))"
   ]
  },
  {
   "cell_type": "code",
   "execution_count": 73,
   "id": "cb116986",
   "metadata": {},
   "outputs": [
    {
     "name": "stdout",
     "output_type": "stream",
     "text": [
      "11111\n"
     ]
    },
    {
     "data": {
      "text/plain": [
       "False"
      ]
     },
     "execution_count": 73,
     "metadata": {},
     "output_type": "execute_result"
    }
   ],
   "source": [
    "def hasAlternatingBits(n: int) -> bool:\n",
    "        def binary(num):\n",
    "            s = \"\"\n",
    "            while num>0:\n",
    "                s += str(num%2)\n",
    "                num //= 2\n",
    "\n",
    "            return s[::-1]\n",
    "        \n",
    "        b = binary(n)\n",
    "        print(b)\n",
    "\n",
    "        for i in range(1,len(b)):\n",
    "            if b[i-1] == b[i]:\n",
    "                return False\n",
    "        return True\n",
    "\n",
    "hasAlternatingBits(31)"
   ]
  },
  {
   "cell_type": "code",
   "execution_count": 75,
   "id": "88c8e5f6",
   "metadata": {},
   "outputs": [
    {
     "name": "stdout",
     "output_type": "stream",
     "text": [
      "   *\n",
      "  **\n",
      " ***\n",
      "****\n"
     ]
    }
   ],
   "source": [
    "for i in range(1,5):\n",
    "    for j in range(4-i):\n",
    "        print(\" \", end=\"\")\n",
    "    for j in range(i):\n",
    "        print(\"*\", end = \"\")\n",
    "    print()"
   ]
  },
  {
   "cell_type": "code",
   "execution_count": 76,
   "id": "eba06bd9",
   "metadata": {},
   "outputs": [
    {
     "name": "stdout",
     "output_type": "stream",
     "text": [
      "*   *\n",
      "**  **\n",
      "*** ***\n",
      "********\n"
     ]
    }
   ],
   "source": [
    "for i in range(1,5):\n",
    "    for j in range(i):\n",
    "        print(\"*\", end = \"\")\n",
    "    for j in range(4-i):\n",
    "        print(\" \", end=\"\")\n",
    "    for j in range(i):\n",
    "        print(\"*\", end = \"\")\n",
    "    print()"
   ]
  },
  {
   "cell_type": "code",
   "execution_count": 120,
   "id": "1549eed6",
   "metadata": {},
   "outputs": [
    {
     "name": "stdout",
     "output_type": "stream",
     "text": [
      "0 ^ 7 = 7\n",
      "7 ^ 9 = 14\n",
      "14 ^ 6 = 8\n",
      "8 ^ 8 = 0\n",
      "0 ^ 3 = 3\n",
      "3 ^ 7 = 4\n",
      "4 ^ 8 = 12\n",
      "12 ^ 6 = 10\n",
      "10 ^ 9 = 3\n"
     ]
    }
   ],
   "source": [
    "s = [7, 9, 6, 8, 3, 7, 8, 6, 9]\n",
    "\n",
    "res = 0\n",
    "\n",
    "for num in s:\n",
    "    \n",
    "    print(res, \"^\" ,num, \"=\",res^num)\n",
    "    res ^= num"
   ]
  },
  {
   "cell_type": "code",
   "execution_count": 121,
   "id": "4bf7b6b3",
   "metadata": {},
   "outputs": [
    {
     "data": {
      "text/plain": [
       "7"
      ]
     },
     "execution_count": 121,
     "metadata": {},
     "output_type": "execute_result"
    }
   ],
   "source": [
    "0 ^ 7"
   ]
  },
  {
   "cell_type": "code",
   "execution_count": null,
   "id": "2285f06a",
   "metadata": {},
   "outputs": [],
   "source": []
  }
 ],
 "metadata": {
  "kernelspec": {
   "display_name": "Python 3",
   "language": "python",
   "name": "python3"
  },
  "language_info": {
   "codemirror_mode": {
    "name": "ipython",
    "version": 3
   },
   "file_extension": ".py",
   "mimetype": "text/x-python",
   "name": "python",
   "nbconvert_exporter": "python",
   "pygments_lexer": "ipython3",
   "version": "3.12.10"
  }
 },
 "nbformat": 4,
 "nbformat_minor": 5
}
