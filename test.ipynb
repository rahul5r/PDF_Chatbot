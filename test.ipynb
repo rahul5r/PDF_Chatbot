{
 "cells": [
  {
   "cell_type": "code",
   "execution_count": 66,
   "id": "f859fee3",
   "metadata": {},
   "outputs": [
    {
     "name": "stdout",
     "output_type": "stream",
     "text": [
      "8\n"
     ]
    }
   ],
   "source": [
    "def print_subarray(arr, length):\n",
    "    maxSum = arr[0]\n",
    "\n",
    "    for i in range(length):\n",
    "        for j in range(i, length):\n",
    "            curSum = sum(arr[i:j+1])\n",
    "            maxSum = max(curSum, maxSum)\n",
    "    \n",
    "    print(maxSum)\n",
    "    \n",
    "def main():\n",
    "\n",
    "    arr= [5,2,-4,-5, 3,-1,2,3,1]\n",
    "    n = len(arr)\n",
    "    print_subarray(arr, n)\n",
    "    \n",
    "main()"
   ]
  },
  {
   "cell_type": "code",
   "execution_count": 67,
   "id": "8a89235a",
   "metadata": {},
   "outputs": [],
   "source": [
    "l = [3, 4, 5, 6]"
   ]
  },
  {
   "cell_type": "code",
   "execution_count": 71,
   "id": "2470b584",
   "metadata": {},
   "outputs": [
    {
     "data": {
      "text/plain": [
       "<map at 0x2de56e3ae60>"
      ]
     },
     "execution_count": 71,
     "metadata": {},
     "output_type": "execute_result"
    }
   ],
   "source": [
    "l = map(str, l)\n",
    "l"
   ]
  },
  {
   "cell_type": "code",
   "execution_count": 72,
   "id": "da8c1178",
   "metadata": {},
   "outputs": [
    {
     "data": {
      "text/plain": [
       "'3456'"
      ]
     },
     "execution_count": 72,
     "metadata": {},
     "output_type": "execute_result"
    }
   ],
   "source": [
    "\"\".join(l)"
   ]
  },
  {
   "cell_type": "code",
   "execution_count": 82,
   "id": "6a6bcf36",
   "metadata": {},
   "outputs": [
    {
     "name": "stdout",
     "output_type": "stream",
     "text": [
      "3\n",
      "[1, 2] 3\n"
     ]
    },
    {
     "data": {
      "text/plain": [
       "3"
      ]
     },
     "execution_count": 82,
     "metadata": {},
     "output_type": "execute_result"
    }
   ],
   "source": [
    "def runningSum(arr):\n",
    "        print(sum(arr))\n",
    "        print(list(range(1,len(arr)+1)), sum(range(1,len(arr)+1)))\n",
    "        return sum(range(1,len(arr)+2)) - sum(arr)\n",
    "nums =  [2,1]\n",
    "runningSum(nums)"
   ]
  },
  {
   "cell_type": "code",
   "execution_count": null,
   "id": "00161dbb",
   "metadata": {},
   "outputs": [],
   "source": []
  }
 ],
 "metadata": {
  "kernelspec": {
   "display_name": "Python 3",
   "language": "python",
   "name": "python3"
  },
  "language_info": {
   "codemirror_mode": {
    "name": "ipython",
    "version": 3
   },
   "file_extension": ".py",
   "mimetype": "text/x-python",
   "name": "python",
   "nbconvert_exporter": "python",
   "pygments_lexer": "ipython3",
   "version": "3.12.10"
  }
 },
 "nbformat": 4,
 "nbformat_minor": 5
}
